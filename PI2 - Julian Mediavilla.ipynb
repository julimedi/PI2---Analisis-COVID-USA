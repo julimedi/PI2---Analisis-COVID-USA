{
 "cells": [
  {
   "cell_type": "code",
   "execution_count": 86,
   "metadata": {},
   "outputs": [],
   "source": [
    "import requests\n",
    "import pandas as pd\n",
    "import numpy as np\n",
    "import matplotlib.pyplot as plt\n",
    "import datetime as dt\n",
    "import seaborn as sns\n",
    "import folium\n",
    "import streamlit as st\n",
    "from streamlit_option_menu import option_menu\n",
    "from streamlit_folium import folium_static"
   ]
  },
  {
   "cell_type": "code",
   "execution_count": 87,
   "metadata": {},
   "outputs": [],
   "source": [
    "def importar(url):\n",
    "    respuesta = requests.get(url)\n",
    "    objeto = respuesta.json()\n",
    "    return objeto"
   ]
  },
  {
   "cell_type": "code",
   "execution_count": 88,
   "metadata": {},
   "outputs": [],
   "source": [
    "datos = pd.read_csv(r\"C:\\Users\\juli_\\Desktop\\datos.csv\")"
   ]
  },
  {
   "cell_type": "code",
   "execution_count": 89,
   "metadata": {},
   "outputs": [
    {
     "data": {
      "text/plain": [
       "'url = \"https://healthdata.gov/resource/g62h-syeh.json\"\\ndatos = pd.DataFrame(importar(url))'"
      ]
     },
     "execution_count": 89,
     "metadata": {},
     "output_type": "execute_result"
    }
   ],
   "source": [
    "'''url = \"https://healthdata.gov/resource/g62h-syeh.json\"\n",
    "datos = pd.DataFrame(importar(url))'''"
   ]
  },
  {
   "cell_type": "code",
   "execution_count": 90,
   "metadata": {},
   "outputs": [
    {
     "name": "stderr",
     "output_type": "stream",
     "text": [
      "C:\\Users\\juli_\\AppData\\Local\\Temp\\ipykernel_15040\\2708787481.py:15: PerformanceWarning: DataFrame is highly fragmented.  This is usually the result of calling `frame.insert` many times, which has poor performance.  Consider joining all columns at once using pd.concat(axis=1) instead. To get a de-fragmented frame, use `newframe = frame.copy()`\n",
      "  datos[\"Total UCI\"] = datos[\"staffed_icu_adult_patients_confirmed_and_suspected_covid\"]+datos[\"staffed_icu_pediatric_patients_confirmed_covid\"]\n",
      "C:\\Users\\juli_\\AppData\\Local\\Temp\\ipykernel_15040\\2708787481.py:16: PerformanceWarning: DataFrame is highly fragmented.  This is usually the result of calling `frame.insert` many times, which has poor performance.  Consider joining all columns at once using pd.concat(axis=1) instead. To get a de-fragmented frame, use `newframe = frame.copy()`\n",
      "  datos[\"total\"] = datos[\"staffed_adult_icu_bed_occupancy\"] + datos[\"staffed_pediatric_icu_bed_occupancy\"]\n",
      "C:\\Users\\juli_\\AppData\\Local\\Temp\\ipykernel_15040\\2708787481.py:23: SettingWithCopyWarning: \n",
      "A value is trying to be set on a copy of a slice from a DataFrame\n",
      "\n",
      "See the caveats in the documentation: https://pandas.pydata.org/pandas-docs/stable/user_guide/indexing.html#returning-a-view-versus-a-copy\n",
      "  cantcamasco19.rename(columns={\"state\":\"estado\", \"inpatient_beds_used_covid\":\"Camas utilizadas\"}, inplace=True)\n"
     ]
    }
   ],
   "source": [
    "datos[\"index\"] = datos.index\n",
    "datosB = datos[[\"index\", \"state\",\"date\"]]\n",
    "del datos[\"date\"]\n",
    "del datos[\"state\"]\n",
    "datos = datos.apply(pd.to_numeric)\n",
    "datos = datosB.merge(datos, on = \"index\", how=\"left\")\n",
    "datos[\"date\"] = pd.to_datetime(datos['date'], format=\"%Y/%m/%d\")\n",
    "mask = (datos['date'] >= '2020-01-01') & (datos['date'] <= '2022-08-01')\n",
    "datos=datos.loc[mask]\n",
    "datos = datos.fillna(0)\n",
    "del datos[\"index\"]\n",
    "datosestados = datos.groupby(\"state\", as_index=False).sum()\n",
    "datosestados[\"ocupacion\"] = round((datosestados[\"inpatient_beds_used_covid\"]/datosestados[\"inpatient_beds_used\"])*100,2)\n",
    "datosestados = datosestados.sort_values(\"ocupacion\", ascending=False)\n",
    "datos[\"Total UCI\"] = datos[\"staffed_icu_adult_patients_confirmed_and_suspected_covid\"]+datos[\"staffed_icu_pediatric_patients_confirmed_covid\"]\n",
    "datos[\"total\"] = datos[\"staffed_adult_icu_bed_occupancy\"] + datos[\"staffed_pediatric_icu_bed_occupancy\"]\n",
    "datosB = datos[[\"state\", \"total\",\"staffed_adult_icu_bed_occupancy\",\"staffed_pediatric_icu_bed_occupancy\" ]]\n",
    "datosB= datosB.groupby(\"state\", as_index=False).sum().sort_values(\"total\", ascending=False)\n",
    "datosB.rename(columns={\"state\":\"estado\", \"staffed_adult_icu_bed_occupancy\": \"Ocupacion Adultos\", \"staffed_pediatric_icu_bed_occupancy\": \"Ocupacion pediatrico\"}, inplace=True)\n",
    "datosB.reset_index(inplace=True)\n",
    "datosB=round(datosB,1)\n",
    "cantcamasco19 = datosestados[[\"state\", \"inpatient_beds_used_covid\"]]\n",
    "cantcamasco19.rename(columns={\"state\":\"estado\", \"inpatient_beds_used_covid\":\"Camas utilizadas\"}, inplace=True)\n",
    "cantcamasco19.reset_index(inplace=True)"
   ]
  },
  {
   "cell_type": "markdown",
   "metadata": {},
   "source": [
    "1 - ¿Cuáles fueron los 5 Estados con mayor ocupación hospitalaria por COVID? Criterio de ocupación por cama común. Considere la cantidad de camas ocupadas con pacientes confirmados y tome como referencia los 6 primeros meses del 2020 - recuerde incluir la cifra de infectados en esos meses (acumulativo). ¿Influye el rango etario en este comportamiento?"
   ]
  },
  {
   "cell_type": "code",
   "execution_count": 91,
   "metadata": {},
   "outputs": [
    {
     "name": "stderr",
     "output_type": "stream",
     "text": [
      "C:\\Users\\juli_\\AppData\\Local\\Temp\\ipykernel_15040\\1131958448.py:4: PerformanceWarning: DataFrame is highly fragmented.  This is usually the result of calling `frame.insert` many times, which has poor performance.  Consider joining all columns at once using pd.concat(axis=1) instead. To get a de-fragmented frame, use `newframe = frame.copy()`\n",
      "  datos_01 = datos_1.groupby(\"state\", as_index=False).sum()\n"
     ]
    }
   ],
   "source": [
    "mask = (datos['date'] >= '2020-01-01') & (datos['date'] <= '2020-06-30')\n",
    "datos_1 = datos[mask]\n",
    "datos_1.sort_values(\"date\", ascending=False)\n",
    "datos_01 = datos_1.groupby(\"state\", as_index=False).sum()\n",
    "datos_01[\"ocupacion\"] = round((datos_01[\"inpatient_beds_used_covid\"]/datos_01[\"inpatient_beds_used\"])*100,2)\n",
    "datos_01 = datos_01.sort_values(\"ocupacion\", ascending=False).head(5)\n",
    "datos_01 = datos_01[[\"state\",\"ocupacion\"]]\n",
    "datos_01.rename(columns={\"state\":\"estado\"}, inplace=True)\n",
    "datos_01.reset_index(inplace=True)"
   ]
  },
  {
   "cell_type": "markdown",
   "metadata": {},
   "source": [
    "2 - Analice la ocupación de camas (Común) por COVID en el Estado de Nueva York durante la cuarentena establecida e indique:\n",
    "\n",
    "Intervalos de crecimiento y decrecimiento\n",
    "Puntos críticos (mínimos y máximos)"
   ]
  },
  {
   "cell_type": "markdown",
   "metadata": {},
   "source": [
    "22 de Marzo 2020 - 13 de Junio de 2020"
   ]
  },
  {
   "cell_type": "code",
   "execution_count": 92,
   "metadata": {},
   "outputs": [
    {
     "data": {
      "image/png": "[encoded data removed]",
      "text/plain": [
       "<Figure size 720x288 with 1 Axes>"
      ]
     },
     "metadata": {
      "needs_background": "light"
     },
     "output_type": "display_data"
    }
   ],
   "source": [
    "datos_2 = datos[[\"state\",\"date\", \"inpatient_beds_used\"]]\n",
    "mask = (datos_2['date'] >= '2020-03-22') & (datos_2['date'] <= '2020-06-13') & (datos_2[\"state\"]==\"NY\")\n",
    "datos_2 = datos_2[mask]\n",
    "datos_2.rename(columns={\"date\":\"Fecha\", \"inpatient_beds_used\": \"Cantidad de camas utilizadas\"}, inplace=True)\n",
    "datos_2.reset_index(inplace=True)\n",
    "grafico_p2 = plt.figure(figsize=(10, 4))\n",
    "sns.lineplot(x=datos_2[\"Fecha\"], y=datos_2[\"Cantidad de camas utilizadas\"])\n",
    "datos_02 = datos_2.sort_values(\"Cantidad de camas utilizadas\", ascending=False)\n",
    "datos_02.reset_index(inplace=True)\n"
   ]
  },
  {
   "cell_type": "markdown",
   "metadata": {},
   "source": [
    "3 - ¿Cuáles fueron los cinco Estados que más camas UCI -Unidades de Cuidados Intensivos- utilizaron durante el año 2020? La medición debe realizarse en términos absolutos."
   ]
  },
  {
   "cell_type": "code",
   "execution_count": 93,
   "metadata": {},
   "outputs": [],
   "source": [
    "\n",
    "datos_3 = datos[[\"date\", \"state\",\"staffed_adult_icu_bed_occupancy\", \"staffed_pediatric_icu_bed_occupancy\"]]\n",
    "mask = (datos_3['date'] >= '2020-01-01') & (datos_3['date'] <= '2020-12-31')\n",
    "datos_3 = datos_3[mask]\n",
    "datos_3[\"Total\"] = datos_3[\"staffed_adult_icu_bed_occupancy\"] + datos_3[\"staffed_pediatric_icu_bed_occupancy\"]\n",
    "datos_03 = datos_3.groupby(\"state\", as_index=False).sum().sort_values(\"Total\",ascending=False).head(5)\n",
    "datos_03.reset_index(inplace=True)\n",
    "datos_03.rename(columns={'state': 'Estado', 'staffed_adult_icu_bed_occupancy': 'Adultos', 'staffed_pediatric_icu_bed_occupancy': 'Pediatrico'}, inplace=True)\n"
   ]
  },
  {
   "cell_type": "markdown",
   "metadata": {},
   "source": [
    "4 - ¿Qué cantidad de camas se utilizaron, por Estado, para pacientes pediátricos con COVID durante el 2020?"
   ]
  },
  {
   "cell_type": "code",
   "execution_count": 94,
   "metadata": {},
   "outputs": [],
   "source": [
    "\n",
    "datos_4 = datos[[\"date\", \"state\",\"all_pediatric_inpatient_bed_occupied\",]]\n",
    "mask = (datos_4['date'] >= '2020-01-01') & (datos_4['date'] <= '2020-12-31')\n",
    "datos_4 = datos_4.loc[mask]\n",
    "datos_04 = datos_4.groupby(\"state\", as_index=False).sum().sort_values(\"all_pediatric_inpatient_bed_occupied\",ascending=False)\n",
    "datos_04.reset_index(inplace=True)\n",
    "datos_04.rename(columns={'state': 'Estado', 'all_pediatric_inpatient_bed_occupied': 'Ocupacion camas pediatricas'}, inplace=True)"
   ]
  },
  {
   "cell_type": "markdown",
   "metadata": {},
   "source": [
    "5 - ¿Qué porcentaje de camas UCI corresponden a casos confirmados de COVID-19? Agrupe por Estado.\n",
    "Adultos + pediatricos"
   ]
  },
  {
   "cell_type": "code",
   "execution_count": 95,
   "metadata": {},
   "outputs": [
    {
     "name": "stderr",
     "output_type": "stream",
     "text": [
      "C:\\Users\\juli_\\AppData\\Local\\Temp\\ipykernel_15040\\2405303367.py:2: SettingWithCopyWarning: \n",
      "A value is trying to be set on a copy of a slice from a DataFrame.\n",
      "Try using .loc[row_indexer,col_indexer] = value instead\n",
      "\n",
      "See the caveats in the documentation: https://pandas.pydata.org/pandas-docs/stable/user_guide/indexing.html#returning-a-view-versus-a-copy\n",
      "  datos_5[\"total_icu\"] = datos_5[\"total_staffed_pediatric_icu_beds\"] + datos_5[\"total_staffed_adult_icu_beds\"]\n",
      "C:\\Users\\juli_\\AppData\\Local\\Temp\\ipykernel_15040\\2405303367.py:3: SettingWithCopyWarning: \n",
      "A value is trying to be set on a copy of a slice from a DataFrame.\n",
      "Try using .loc[row_indexer,col_indexer] = value instead\n",
      "\n",
      "See the caveats in the documentation: https://pandas.pydata.org/pandas-docs/stable/user_guide/indexing.html#returning-a-view-versus-a-copy\n",
      "  datos_5[\"total_icu_covid\"] = datos_5[\"staffed_icu_pediatric_patients_confirmed_covid\"]+datos_5[\"staffed_icu_adult_patients_confirmed_and_suspected_covid\"]\n"
     ]
    }
   ],
   "source": [
    "datos_5 = datos[[\"date\", \"state\",\"total_staffed_pediatric_icu_beds\",\"total_staffed_adult_icu_beds\", \"staffed_icu_adult_patients_confirmed_and_suspected_covid\" , \"staffed_icu_pediatric_patients_confirmed_covid\"]]\n",
    "datos_5[\"total_icu\"] = datos_5[\"total_staffed_pediatric_icu_beds\"] + datos_5[\"total_staffed_adult_icu_beds\"]\n",
    "datos_5[\"total_icu_covid\"] = datos_5[\"staffed_icu_pediatric_patients_confirmed_covid\"]+datos_5[\"staffed_icu_adult_patients_confirmed_and_suspected_covid\"]\n",
    "datos_5 = datos_5.groupby(\"state\").sum()\n",
    "datos_5[\"% Uso Covid\"] = round((datos_5[\"total_icu_covid\"]/datos_5[\"total_icu\"])*100,2)\n",
    "datos_05 = datos_5[\"% Uso Covid\"].sort_values(ascending=False)"
   ]
  },
  {
   "cell_type": "markdown",
   "metadata": {},
   "source": [
    "6 - ¿Cuántas muertes por covid hubo, por Estado, durante el año 2021?"
   ]
  },
  {
   "cell_type": "code",
   "execution_count": 96,
   "metadata": {},
   "outputs": [],
   "source": [
    "datos_6 = datos[[\"date\",\"state\", \"deaths_covid\"]]\n",
    "mask = (datos_6['date'] >= '2021-01-01') & (datos_6['date'] <= '2021-12-31')\n",
    "datos_6 = datos_6.loc[mask]\n",
    "datos_06 = datos_6.groupby(\"state\", as_index=False).sum().sort_values(\"deaths_covid\", ascending=False)\n",
    "datos_06.reset_index(inplace=True)\n",
    "datos_06.rename(columns={'state': 'Estado', 'deaths_covid': 'Muertes por covid'}, inplace=True)"
   ]
  },
  {
   "cell_type": "markdown",
   "metadata": {},
   "source": [
    "7 - ¿Qué relación presenta la falta de personal médico, con la cantidad de muertes por covid durante el año 2021?\n",
    "\n",
    "\n"
   ]
  },
  {
   "cell_type": "code",
   "execution_count": 97,
   "metadata": {},
   "outputs": [
    {
     "name": "stderr",
     "output_type": "stream",
     "text": [
      "C:\\Users\\juli_\\AppData\\Local\\Temp\\ipykernel_15040\\2758063813.py:3: SettingWithCopyWarning: \n",
      "A value is trying to be set on a copy of a slice from a DataFrame\n",
      "\n",
      "See the caveats in the documentation: https://pandas.pydata.org/pandas-docs/stable/user_guide/indexing.html#returning-a-view-versus-a-copy\n",
      "  datos_7.dropna(inplace=True)\n"
     ]
    }
   ],
   "source": [
    "mask = (datos['date'] >= '2021-01-01') & (datos['date'] <= '2021-12-31')\n",
    "datos_7 = datos[mask]\n",
    "datos_7.dropna(inplace=True)\n",
    "relacion_07 = round(datos_7['deaths_covid'].corr(datos_7['critical_staffing_shortage_today_yes']),2)\n",
    "datos_07=datos_7.corr()['deaths_covid'].sort_values(ascending=False)"
   ]
  },
  {
   "cell_type": "markdown",
   "metadata": {},
   "source": [
    "8 - Siguiendo las respuestas anteriores, ¿cuál fue el peor mes de la pandemia para USA en su conjunto? Puede utilizar otras medidas que considere necesarias."
   ]
  },
  {
   "cell_type": "code",
   "execution_count": 98,
   "metadata": {},
   "outputs": [],
   "source": [
    "datos_8 = datos[[\"date\", \"deaths_covid\", \"critical_staffing_shortage_today_yes\", \"inpatient_beds_used_covid\",  \"total_adult_patients_hospitalized_confirmed_and_suspected_covid\", \"total_patients_hospitalized_confirmed_influenza_and_covid\"]]\n",
    "datos_8 = datos_8.fillna(0)\n",
    "datos_8[\"monthofyear\"] = pd.DatetimeIndex(datos_8['date']).month + (pd.DatetimeIndex(datos_8['date']).year)*100\n",
    "datos_08 = datos_8.groupby(\"monthofyear\", as_index=False).sum().sort_values(\"deaths_covid\", ascending=False)\n",
    "datos_08.reset_index(inplace=True)\n",
    "datos_08.rename(columns={'monthofyear': 'Ano/Mes', 'deaths_covid': 'Muertes por covid', \"critical_staffing_shortage_today_yes\": \"Falta de personal\",\"inpatient_beds_used_covid\":\"Camas covid\",\"total_adult_patients_hospitalized_confirmed_and_suspected_covid\":\"Adultos COVID +\", \"total_patients_hospitalized_confirmed_influenza_and_covid\": \"Pacientes COVID + Influenza\" }, inplace=True)"
   ]
  },
  {
   "cell_type": "markdown",
   "metadata": {},
   "source": [
    "9 - ¿Qué recomendaciones haría, ex post, con respecto a los recursos hospitalarios y su uso?\n",
    "\n"
   ]
  },
  {
   "cell_type": "code",
   "execution_count": 99,
   "metadata": {},
   "outputs": [
    {
     "data": {
      "text/plain": [
       "<AxesSubplot:>"
      ]
     },
     "execution_count": 99,
     "metadata": {},
     "output_type": "execute_result"
    },
    {
     "data": {
      "image/png": "[encoded data removed]",
      "text/plain": [
       "<Figure size 720x288 with 2 Axes>"
      ]
     },
     "metadata": {
      "needs_background": "light"
     },
     "output_type": "display_data"
    }
   ],
   "source": [
    "datos_9 = datos[['state', 'date', 'critical_staffing_shortage_today_yes', \"inpatient_beds\", \"total_staffed_pediatric_icu_beds\", \"total_staffed_adult_icu_beds\", \"deaths_covid\", ]]\n",
    "datoscorr = datos_9.corr()\n",
    "datoscorr.rename(columns={'deaths_covid': 'Muertes por covid', \"critical_staffing_shortage_today_yes\": \"Falta de personal\",\"inpatient_beds\":\"Total camas\",\"total_staffed_pediatric_icu_beds\": \"UCI Pediatricas\", \"total_staffed_adult_icu_beds\": \"UCI Adultos\" }, inplace=True)\n",
    "heatdatoscorr = plt.figure(figsize=(10, 4))\n",
    "sns.heatmap(datoscorr[['Muertes por covid']].sort_values(by='Muertes por covid', ascending=False), vmin=-1, vmax=1, annot=True)"
   ]
  },
  {
   "cell_type": "markdown",
   "metadata": {},
   "source": [
    "Graficos"
   ]
  },
  {
   "cell_type": "code",
   "execution_count": 100,
   "metadata": {},
   "outputs": [
    {
     "data": {
      "text/plain": [
       "<folium.map.LayerControl at 0x1c4cb091990>"
      ]
     },
     "execution_count": 100,
     "metadata": {},
     "output_type": "execute_result"
    }
   ],
   "source": [
    "url = (\"https://raw.githubusercontent.com/python-visualization/folium/master/examples/data\")\n",
    "state_geo = f\"{url}/us-states.json\"\n",
    "mapaMuertes = folium.Map(location=[48, -102], zoom_start=3)\n",
    "folium.Choropleth(\n",
    "    geo_data=state_geo,\n",
    "    data=datos_06,\n",
    "    columns=[\"Estado\", \"Muertes por covid\"],\n",
    "    key_on=\"feature.id\",\n",
    "    fill_color=\"OrRd\",\n",
    "    fill_opacity=1,\n",
    "    line_opacity=0.5,\n",
    "    legend_name=\"Cantidad de muertes\",\n",
    ").add_to(mapaMuertes)\n",
    "folium.LayerControl().add_to(mapaMuertes)"
   ]
  },
  {
   "cell_type": "code",
   "execution_count": 101,
   "metadata": {},
   "outputs": [
    {
     "data": {
      "text/plain": [
       "<folium.map.LayerControl at 0x1c4d68275b0>"
      ]
     },
     "execution_count": 101,
     "metadata": {},
     "output_type": "execute_result"
    }
   ],
   "source": [
    "\n",
    "mapaHospitalizados = folium.Map(location=[48, -102], zoom_start=3)\n",
    "folium.Choropleth(\n",
    "    geo_data=state_geo,\n",
    "    data=datos,\n",
    "    columns=[\"state\", \"inpatient_beds_used_covid\"],\n",
    "    key_on=\"feature.id\",\n",
    "    fill_color=\"Greens\",\n",
    "    fill_opacity=1,\n",
    "    line_opacity=0.5,\n",
    "    legend_name=\"Cantidad de hospitalizados\",\n",
    ").add_to(mapaHospitalizados)\n",
    "folium.LayerControl().add_to(mapaHospitalizados)"
   ]
  },
  {
   "cell_type": "code",
   "execution_count": 102,
   "metadata": {},
   "outputs": [
    {
     "data": {
      "text/plain": [
       "<folium.map.LayerControl at 0x1c4cbcca3b0>"
      ]
     },
     "execution_count": 102,
     "metadata": {},
     "output_type": "execute_result"
    }
   ],
   "source": [
    "mapacamasUCI = folium.Map(location=[48, -102], zoom_start=3)\n",
    "folium.Choropleth(\n",
    "    geo_data=state_geo,\n",
    "    data=datos,\n",
    "    columns=[\"state\", \"Total UCI\"],\n",
    "    key_on=\"feature.id\",\n",
    "    fill_color=\"BuPu\",\n",
    "    fill_opacity=1,\n",
    "    line_opacity=0.5,\n",
    "    legend_name=\"Uso de camas UCI\",\n",
    ").add_to(mapacamasUCI)\n",
    "folium.LayerControl().add_to(mapacamasUCI)"
   ]
  },
  {
   "cell_type": "code",
   "execution_count": 103,
   "metadata": {},
   "outputs": [
    {
     "data": {
      "text/plain": [
       "<folium.map.LayerControl at 0x1c4d6817dc0>"
      ]
     },
     "execution_count": 103,
     "metadata": {},
     "output_type": "execute_result"
    }
   ],
   "source": [
    "mapaocuphospit = folium.Map(location=[48, -102], zoom_start=3)\n",
    "folium.Choropleth(\n",
    "    geo_data=state_geo,\n",
    "    data=datosestados,\n",
    "    columns=[\"state\", \"ocupacion\"],\n",
    "    key_on=\"feature.id\",\n",
    "    fill_color=\"BuPu\",\n",
    "    fill_opacity=1,\n",
    "    line_opacity=0.5,\n",
    "    legend_name=\"Ocupacion hospitalaria\",\n",
    ").add_to(mapaocuphospit)\n",
    "folium.LayerControl().add_to(mapaocuphospit)"
   ]
  },
  {
   "cell_type": "markdown",
   "metadata": {},
   "source": [
    "Streamlit"
   ]
  },
  {
   "cell_type": "code",
   "execution_count": 104,
   "metadata": {},
   "outputs": [
    {
     "name": "stderr",
     "output_type": "stream",
     "text": [
      "2022-08-11 10:36:41.260 \n",
      "  \u001b[33m\u001b[1mWarning:\u001b[0m to view this Streamlit app on a browser, run it with the following\n",
      "  command:\n",
      "\n",
      "    streamlit run c:\\Users\\juli_\\AppData\\Local\\Programs\\Python\\Python310\\lib\\site-packages\\ipykernel_launcher.py [ARGUMENTS]\n"
     ]
    }
   ],
   "source": [
    "st.set_page_config(layout=\"wide\")\n",
    "with st.sidebar:\n",
    "    choose = option_menu(\"App Gallery\", [\"Portada\", \"Introduccion\",\"Cantidad de hospitalizados\", \"Uso de camas UCI\", \"Ocupación hospitalaria\",\"Cantidad de camas ocupadas por Covid-19\", \"Los 5 Estados con mayor ocupación hospitalaria por COVID\", \"Ocupacion de camas por pacientes COVID19 - Nueva York\",\"Los 5 Estados con mayor utilizacion de camas UCI\", \"Cantidad de camas utilizadas para pacientes pediátricos con COVID\", \"Porcentaje de camas UCI correspondientes a casos confirmados de COVID-19\", \"Cantidad de muertes por COVID-19\", \"Relacion entre muertes y falta de personal\", \"Peores meses de la pandemia en USA\", \"Conclusiones\", \"Preguntas\"])"
   ]
  },
  {
   "cell_type": "code",
   "execution_count": 105,
   "metadata": {},
   "outputs": [],
   "source": [
    "if choose == \"Portada\":\n",
    "    st.title(\"Proyecto Individual #2\")\n",
    "    st.image(\"https://camo.githubusercontent.com/35b81f213ddb0e019b3567f6982d740bb2d01ae5dd712a1537e09e826e940228/68747470733a2f2f643331757a386c77666d796e38672e636c6f756466726f6e742e6e65742f4173736574732f6c6f676f2d68656e72792d77686974652d6c672e706e67\")\n",
    "    st.header(\"Julián Mediavilla\")\n",
    "    st.subheader(\"Argentina,2022\")"
   ]
  },
  {
   "cell_type": "code",
   "execution_count": 106,
   "metadata": {},
   "outputs": [
    {
     "ename": "SyntaxError",
     "evalue": "invalid syntax (3747823721.py, line 1)",
     "output_type": "error",
     "traceback": [
      "\u001b[1;36m  Input \u001b[1;32mIn [106]\u001b[1;36m\u001b[0m\n\u001b[1;33m    elif choose == \"Introduccion\":\u001b[0m\n\u001b[1;37m    ^\u001b[0m\n\u001b[1;31mSyntaxError\u001b[0m\u001b[1;31m:\u001b[0m invalid syntax\n"
     ]
    }
   ],
   "source": [
    "elif choose == \"Introduccion\":\n",
    "    st.title(\"EE.UU. Covid-19\")\n",
    "    st.header(\"01/01/2020 - 01/08/2022\")\n",
    "    st.image(\"https://www.etapainfantil.com/wp-content/uploads/2021/05/Mapa-politico-Estados-Unidos.jpg\")"
   ]
  },
  {
   "cell_type": "code",
   "execution_count": null,
   "metadata": {},
   "outputs": [],
   "source": [
    "elif choose == \"Cantidad de hospitalizados\":\n",
    "    st.title(\"Cantidad de hospitalizados\")\n",
    "    folium_static(mapaHospitalizados)"
   ]
  },
  {
   "cell_type": "code",
   "execution_count": null,
   "metadata": {},
   "outputs": [],
   "source": [
    "elif choose == \"Uso de camas UCI\":\n",
    "    st.title(\"Uso de camas UCI\")\n",
    "    st.write(datosB))"
   ]
  },
  {
   "cell_type": "code",
   "execution_count": null,
   "metadata": {},
   "outputs": [],
   "source": [
    "elif choose == \"Ocupación hospitalaria\":\n",
    "    st.title(\"Ocupación hospitalaria\")\n",
    "    folium_static(mapaocuphospit)"
   ]
  },
  {
   "cell_type": "code",
   "execution_count": null,
   "metadata": {},
   "outputs": [],
   "source": [
    "elif choose == \"Cantidad de camas ocupadas por Covid-19\":\n",
    "    st.title(\"Cantidad de camas ocupadas por Covid-19\")\n",
    "    st.write(cantcamasco19)"
   ]
  },
  {
   "cell_type": "code",
   "execution_count": null,
   "metadata": {},
   "outputs": [],
   "source": [
    "elif choose == \"Los 5 Estados con mayor ocupación hospitalaria por COVID\":\n",
    "    #Preg1\n",
    "    st.title(\"Los 5 Estados con mayor ocupación hospitalaria por COVID\")\n",
    "    st.header(\"Primer semestre del 2020\")\n",
    "    st.write(datos_01)"
   ]
  },
  {
   "cell_type": "code",
   "execution_count": null,
   "metadata": {},
   "outputs": [],
   "source": [
    "elif choose == \"Ocupacion de camas por pacientes COVID19 - Nueva York\":\n",
    "    #Preg2\n",
    "    st.title(\"Ocupacion de camas por pacientes COVID19 - Nueva York\")\n",
    "    st.header(\"22/03/2020 - 13/06/2020\")\n",
    "    st.write(grafico_p2)\n",
    "    st.write(datos_02)"
   ]
  },
  {
   "cell_type": "code",
   "execution_count": null,
   "metadata": {},
   "outputs": [],
   "source": [
    "elif choose == \"Los 5 Estados con mayor utilizacion de camas UCI\":\n",
    "    #Preg3\n",
    "    st.title(\"Los 5 Estados con mayor utilizacion de camas UCI\")\n",
    "    st.header(\"Año 2020\")\n",
    "    st.write(datos_03)"
   ]
  },
  {
   "cell_type": "code",
   "execution_count": null,
   "metadata": {},
   "outputs": [],
   "source": [
    "elif choose == \"Cantidad de camas utilizadas para pacientes pediátricos con COVID\":\n",
    "    #Preg4\n",
    "    st.title(\"Cantidad de camas utilizadas para pacientes pediátricos con COVID\")\n",
    "    st.header(\"Año 2020\")\n",
    "    st.write(datos_04)"
   ]
  },
  {
   "cell_type": "code",
   "execution_count": null,
   "metadata": {},
   "outputs": [],
   "source": [
    "elif choose == \"Porcentaje de camas UCI correspondientes a casos confirmados de COVID-19\":\n",
    "    #Preg5\n",
    "    st.title(\"Porcentaje de camas UCI correspondientes a casos confirmados de COVID-19\")\n",
    "    st.write(datos_05)"
   ]
  },
  {
   "cell_type": "code",
   "execution_count": null,
   "metadata": {},
   "outputs": [],
   "source": [
    "elif choose == \"Cantidad de muertes por COVID-19\":\n",
    "    #Preg6\n",
    "    st.title(\"Cantidad de muertes por COVID-19\")\n",
    "    folium_static(mapaMuertes)\n",
    "    st.write(datos_06)"
   ]
  },
  {
   "cell_type": "code",
   "execution_count": null,
   "metadata": {},
   "outputs": [],
   "source": [
    "elif choose == \"Relacion entre falta de personal y muertes\":\n",
    "    #Preg7\n",
    "    st.title(\"Relacion entre falta de personal y muertes\")\n",
    "    st.write(datos_07.head(10))\n",
    "    st.subheader(\"Relacion:\")\n",
    "    st.write(relacion_07)"
   ]
  },
  {
   "cell_type": "code",
   "execution_count": null,
   "metadata": {},
   "outputs": [],
   "source": [
    "elif choose == \"Peores meses de la pandemia en USA\":\n",
    "    #Preg8\n",
    "    st.title(\"Peores meses de la pandemia en USA\")\n",
    "    st.write(datos_08.head(5))"
   ]
  },
  {
   "cell_type": "code",
   "execution_count": null,
   "metadata": {},
   "outputs": [],
   "source": [
    "elif choose == \"Conclusiones\":\n",
    "    #Preg9\n",
    "    st.title(\"Conclusiones\")\n",
    "    st.write(heatdatoscorr)"
   ]
  },
  {
   "cell_type": "code",
   "execution_count": 107,
   "metadata": {},
   "outputs": [
    {
     "ename": "SyntaxError",
     "evalue": "invalid syntax (493230139.py, line 1)",
     "output_type": "error",
     "traceback": [
      "\u001b[1;36m  Input \u001b[1;32mIn [107]\u001b[1;36m\u001b[0m\n\u001b[1;33m    elif choose == \"Preguntas\":\u001b[0m\n\u001b[1;37m    ^\u001b[0m\n\u001b[1;31mSyntaxError\u001b[0m\u001b[1;31m:\u001b[0m invalid syntax\n"
     ]
    }
   ],
   "source": [
    "elif choose == \"Preguntas\":\n",
    "    #Final\n",
    "    st.title(\"Preguntas\")\n",
    "    st.title(\"Proyecto Individual #2\")\n",
    "    st.image(\"https://camo.githubusercontent.com/35b81f213ddb0e019b3567f6982d740bb2d01ae5dd712a1537e09e826e940228/68747470733a2f2f643331757a386c77666d796e38672e636c6f756466726f6e742e6e65742f4173736574732f6c6f676f2d68656e72792d77686974652d6c672e706e67\")\n",
    "    st.header(\"Julián Mediavilla\")\n",
    "    st.subheader(\"Argentina,2022\")"
   ]
  }
 ],
 "metadata": {
  "kernelspec": {
   "display_name": "Python 3.10.4 64-bit",
   "language": "python",
   "name": "python3"
  },
  "language_info": {
   "codemirror_mode": {
    "name": "ipython",
    "version": 3
   },
   "file_extension": ".py",
   "mimetype": "text/x-python",
   "name": "python",
   "nbconvert_exporter": "python",
   "pygments_lexer": "ipython3",
   "version": "3.10.4"
  },
  "orig_nbformat": 4,
  "vscode": {
   "interpreter": {
    "hash": "8e42de7f272af51c46ecb9fd929a1de0dc71ee5576f9fc3b15c6c7432bd66913"
   }
  }
 },
 "nbformat": 4,
 "nbformat_minor": 2
}
